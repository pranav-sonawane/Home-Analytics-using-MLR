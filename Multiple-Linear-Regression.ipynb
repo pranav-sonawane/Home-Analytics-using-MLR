{
 "cells": [
  {
   "cell_type": "code",
   "execution_count": 1,
   "id": "0b504e38-dc9b-4d2d-a444-8f09d311a265",
   "metadata": {},
   "outputs": [],
   "source": [
    "import numpy as np\n",
    "import pandas as pd"
   ]
  },
  {
   "cell_type": "code",
   "execution_count": 2,
   "id": "86b1e5c7",
   "metadata": {},
   "outputs": [
    {
     "data": {
      "text/html": [
       "<div>\n",
       "<style scoped>\n",
       "    .dataframe tbody tr th:only-of-type {\n",
       "        vertical-align: middle;\n",
       "    }\n",
       "\n",
       "    .dataframe tbody tr th {\n",
       "        vertical-align: top;\n",
       "    }\n",
       "\n",
       "    .dataframe thead th {\n",
       "        text-align: right;\n",
       "    }\n",
       "</style>\n",
       "<table border=\"1\" class=\"dataframe\">\n",
       "  <thead>\n",
       "    <tr style=\"text-align: right;\">\n",
       "      <th></th>\n",
       "      <th>TOTAL_VALUE</th>\n",
       "      <th>LOT_SQFT</th>\n",
       "      <th>YR_BUILT</th>\n",
       "      <th>LIVING_AREA</th>\n",
       "      <th>FLOORS</th>\n",
       "      <th>ROOMS</th>\n",
       "      <th>BEDROOMS</th>\n",
       "      <th>FULL_BATH</th>\n",
       "      <th>HALF_BATH</th>\n",
       "      <th>KITCHEN</th>\n",
       "      <th>FIREPLACE</th>\n",
       "      <th>REMODEL</th>\n",
       "    </tr>\n",
       "  </thead>\n",
       "  <tbody>\n",
       "    <tr>\n",
       "      <th>0</th>\n",
       "      <td>344.2</td>\n",
       "      <td>9965.0</td>\n",
       "      <td>1880</td>\n",
       "      <td>1352.0</td>\n",
       "      <td>2.0</td>\n",
       "      <td>6</td>\n",
       "      <td>3</td>\n",
       "      <td>1</td>\n",
       "      <td>1</td>\n",
       "      <td>1</td>\n",
       "      <td>0</td>\n",
       "      <td>None</td>\n",
       "    </tr>\n",
       "    <tr>\n",
       "      <th>1</th>\n",
       "      <td>412.6</td>\n",
       "      <td>6590.0</td>\n",
       "      <td>1945</td>\n",
       "      <td>1976.0</td>\n",
       "      <td>2.0</td>\n",
       "      <td>10</td>\n",
       "      <td>4</td>\n",
       "      <td>2</td>\n",
       "      <td>1</td>\n",
       "      <td>1</td>\n",
       "      <td>0</td>\n",
       "      <td>Recent</td>\n",
       "    </tr>\n",
       "    <tr>\n",
       "      <th>2</th>\n",
       "      <td>330.1</td>\n",
       "      <td>7500.0</td>\n",
       "      <td>1890</td>\n",
       "      <td>1371.0</td>\n",
       "      <td>2.0</td>\n",
       "      <td>8</td>\n",
       "      <td>4</td>\n",
       "      <td>1</td>\n",
       "      <td>1</td>\n",
       "      <td>1</td>\n",
       "      <td>0</td>\n",
       "      <td>None</td>\n",
       "    </tr>\n",
       "    <tr>\n",
       "      <th>3</th>\n",
       "      <td>498.6</td>\n",
       "      <td>13773.0</td>\n",
       "      <td>1957</td>\n",
       "      <td>2608.0</td>\n",
       "      <td>1.0</td>\n",
       "      <td>9</td>\n",
       "      <td>5</td>\n",
       "      <td>1</td>\n",
       "      <td>1</td>\n",
       "      <td>1</td>\n",
       "      <td>1</td>\n",
       "      <td>None</td>\n",
       "    </tr>\n",
       "    <tr>\n",
       "      <th>4</th>\n",
       "      <td>331.5</td>\n",
       "      <td>5000.0</td>\n",
       "      <td>1910</td>\n",
       "      <td>1438.0</td>\n",
       "      <td>2.0</td>\n",
       "      <td>7</td>\n",
       "      <td>3</td>\n",
       "      <td>2</td>\n",
       "      <td>0</td>\n",
       "      <td>1</td>\n",
       "      <td>0</td>\n",
       "      <td>None</td>\n",
       "    </tr>\n",
       "  </tbody>\n",
       "</table>\n",
       "</div>"
      ],
      "text/plain": [
       "   TOTAL_VALUE  LOT_SQFT  YR_BUILT  LIVING_AREA  FLOORS  ROOMS  BEDROOMS  \\\n",
       "0        344.2    9965.0      1880       1352.0     2.0      6         3   \n",
       "1        412.6    6590.0      1945       1976.0     2.0     10         4   \n",
       "2        330.1    7500.0      1890       1371.0     2.0      8         4   \n",
       "3        498.6   13773.0      1957       2608.0     1.0      9         5   \n",
       "4        331.5    5000.0      1910       1438.0     2.0      7         3   \n",
       "\n",
       "   FULL_BATH  HALF_BATH  KITCHEN  FIREPLACE REMODEL  \n",
       "0          1          1        1          0    None  \n",
       "1          2          1        1          0  Recent  \n",
       "2          1          1        1          0    None  \n",
       "3          1          1        1          1    None  \n",
       "4          2          0        1          0    None  "
      ]
     },
     "execution_count": 2,
     "metadata": {},
     "output_type": "execute_result"
    }
   ],
   "source": [
    "# read in data file\n",
    "\n",
    "homes_df = pd.read_csv('WestRoxbury_unprocessed.csv')\n",
    "homes_df.head()"
   ]
  },
  {
   "cell_type": "markdown",
   "id": "5a8cdd59",
   "metadata": {},
   "source": [
    "### Basic Exploratory Analysis"
   ]
  },
  {
   "cell_type": "code",
   "execution_count": 3,
   "id": "572a8298",
   "metadata": {},
   "outputs": [
    {
     "name": "stdout",
     "output_type": "stream",
     "text": [
      "TOTAL_VALUE    float64\n",
      "LOT_SQFT       float64\n",
      "YR_BUILT         int64\n",
      "LIVING_AREA    float64\n",
      "FLOORS         float64\n",
      "ROOMS            int64\n",
      "BEDROOMS         int64\n",
      "FULL_BATH        int64\n",
      "HALF_BATH        int64\n",
      "KITCHEN          int64\n",
      "FIREPLACE        int64\n",
      "REMODEL         object\n",
      "dtype: object\n"
     ]
    }
   ],
   "source": [
    "# print the data types of each column\n",
    "print(homes_df.dtypes)"
   ]
  },
  {
   "cell_type": "code",
   "execution_count": 4,
   "id": "35ab6728",
   "metadata": {},
   "outputs": [
    {
     "data": {
      "text/plain": [
       "(5802, 12)"
      ]
     },
     "execution_count": 4,
     "metadata": {},
     "output_type": "execute_result"
    }
   ],
   "source": [
    "# print the shape of the dataframe\n",
    "(homes_df.shape)  "
   ]
  },
  {
   "cell_type": "code",
   "execution_count": 5,
   "id": "ccc80ffb",
   "metadata": {},
   "outputs": [
    {
     "data": {
      "text/plain": [
       "TOTAL_VALUE    0\n",
       "LOT_SQFT       1\n",
       "YR_BUILT       0\n",
       "LIVING_AREA    2\n",
       "FLOORS         0\n",
       "ROOMS          0\n",
       "BEDROOMS       0\n",
       "FULL_BATH      0\n",
       "HALF_BATH      0\n",
       "KITCHEN        0\n",
       "FIREPLACE      0\n",
       "REMODEL        0\n",
       "dtype: int64"
      ]
     },
     "execution_count": 5,
     "metadata": {},
     "output_type": "execute_result"
    }
   ],
   "source": [
    "# check for null values\n",
    "homes_df.isnull().sum()"
   ]
  },
  {
   "cell_type": "code",
   "execution_count": 6,
   "id": "f392f2a1",
   "metadata": {},
   "outputs": [
    {
     "data": {
      "text/plain": [
       "None      4346\n",
       "Recent     875\n",
       "Old        581\n",
       "Name: REMODEL, dtype: int64"
      ]
     },
     "execution_count": 6,
     "metadata": {},
     "output_type": "execute_result"
    }
   ],
   "source": [
    "# look at each category in \"REMODEL\"\n",
    "homes_df['REMODEL'].value_counts()"
   ]
  },
  {
   "cell_type": "code",
   "execution_count": 7,
   "id": "d1e35deb",
   "metadata": {},
   "outputs": [
    {
     "data": {
      "text/plain": [
       "7     1769\n",
       "6     1669\n",
       "8      936\n",
       "5      578\n",
       "9      450\n",
       "10     200\n",
       "4       71\n",
       "11      66\n",
       "12      45\n",
       "13      10\n",
       "14       5\n",
       "3        3\n",
       "Name: ROOMS, dtype: int64"
      ]
     },
     "execution_count": 7,
     "metadata": {},
     "output_type": "execute_result"
    }
   ],
   "source": [
    "# look at the frequency of occurence in the \"ROOMS\" column\n",
    "homes_df['ROOMS'].value_counts()"
   ]
  },
  {
   "cell_type": "code",
   "execution_count": 8,
   "id": "a392c3d7",
   "metadata": {},
   "outputs": [
    {
     "data": {
      "text/html": [
       "<div>\n",
       "<style scoped>\n",
       "    .dataframe tbody tr th:only-of-type {\n",
       "        vertical-align: middle;\n",
       "    }\n",
       "\n",
       "    .dataframe tbody tr th {\n",
       "        vertical-align: top;\n",
       "    }\n",
       "\n",
       "    .dataframe thead th {\n",
       "        text-align: right;\n",
       "    }\n",
       "</style>\n",
       "<table border=\"1\" class=\"dataframe\">\n",
       "  <thead>\n",
       "    <tr style=\"text-align: right;\">\n",
       "      <th></th>\n",
       "      <th>LOT_SQFT</th>\n",
       "      <th>YR_BUILT</th>\n",
       "      <th>LIVING_AREA</th>\n",
       "      <th>FLOORS</th>\n",
       "      <th>ROOMS</th>\n",
       "      <th>BEDROOMS</th>\n",
       "      <th>FULL_BATH</th>\n",
       "      <th>HALF_BATH</th>\n",
       "      <th>KITCHEN</th>\n",
       "      <th>FIREPLACE</th>\n",
       "    </tr>\n",
       "  </thead>\n",
       "  <tbody>\n",
       "    <tr>\n",
       "      <th>LOT_SQFT</th>\n",
       "      <td>1.000000</td>\n",
       "      <td>-0.068903</td>\n",
       "      <td>0.426145</td>\n",
       "      <td>0.073640</td>\n",
       "      <td>0.308398</td>\n",
       "      <td>0.254094</td>\n",
       "      <td>0.201427</td>\n",
       "      <td>0.134947</td>\n",
       "      <td>0.044518</td>\n",
       "      <td>0.181910</td>\n",
       "    </tr>\n",
       "    <tr>\n",
       "      <th>YR_BUILT</th>\n",
       "      <td>-0.068903</td>\n",
       "      <td>1.000000</td>\n",
       "      <td>-0.131162</td>\n",
       "      <td>-0.190453</td>\n",
       "      <td>-0.144686</td>\n",
       "      <td>-0.130411</td>\n",
       "      <td>0.073706</td>\n",
       "      <td>0.060685</td>\n",
       "      <td>0.052091</td>\n",
       "      <td>0.087234</td>\n",
       "    </tr>\n",
       "    <tr>\n",
       "      <th>LIVING_AREA</th>\n",
       "      <td>0.426145</td>\n",
       "      <td>-0.131162</td>\n",
       "      <td>1.000000</td>\n",
       "      <td>0.475604</td>\n",
       "      <td>0.720688</td>\n",
       "      <td>0.641065</td>\n",
       "      <td>0.438143</td>\n",
       "      <td>0.300847</td>\n",
       "      <td>0.082799</td>\n",
       "      <td>0.261992</td>\n",
       "    </tr>\n",
       "    <tr>\n",
       "      <th>FLOORS</th>\n",
       "      <td>0.073640</td>\n",
       "      <td>-0.190453</td>\n",
       "      <td>0.475604</td>\n",
       "      <td>1.000000</td>\n",
       "      <td>0.432856</td>\n",
       "      <td>0.431242</td>\n",
       "      <td>0.112166</td>\n",
       "      <td>0.316142</td>\n",
       "      <td>-0.114602</td>\n",
       "      <td>0.120506</td>\n",
       "    </tr>\n",
       "    <tr>\n",
       "      <th>ROOMS</th>\n",
       "      <td>0.308398</td>\n",
       "      <td>-0.144686</td>\n",
       "      <td>0.720688</td>\n",
       "      <td>0.432856</td>\n",
       "      <td>1.000000</td>\n",
       "      <td>0.710693</td>\n",
       "      <td>0.378274</td>\n",
       "      <td>0.282655</td>\n",
       "      <td>0.129223</td>\n",
       "      <td>0.205223</td>\n",
       "    </tr>\n",
       "    <tr>\n",
       "      <th>BEDROOMS</th>\n",
       "      <td>0.254094</td>\n",
       "      <td>-0.130411</td>\n",
       "      <td>0.641065</td>\n",
       "      <td>0.431242</td>\n",
       "      <td>0.710693</td>\n",
       "      <td>1.000000</td>\n",
       "      <td>0.332620</td>\n",
       "      <td>0.256852</td>\n",
       "      <td>0.085353</td>\n",
       "      <td>0.164380</td>\n",
       "    </tr>\n",
       "    <tr>\n",
       "      <th>FULL_BATH</th>\n",
       "      <td>0.201427</td>\n",
       "      <td>0.073706</td>\n",
       "      <td>0.438143</td>\n",
       "      <td>0.112166</td>\n",
       "      <td>0.378274</td>\n",
       "      <td>0.332620</td>\n",
       "      <td>1.000000</td>\n",
       "      <td>-0.130628</td>\n",
       "      <td>0.146650</td>\n",
       "      <td>0.140160</td>\n",
       "    </tr>\n",
       "    <tr>\n",
       "      <th>HALF_BATH</th>\n",
       "      <td>0.134947</td>\n",
       "      <td>0.060685</td>\n",
       "      <td>0.300847</td>\n",
       "      <td>0.316142</td>\n",
       "      <td>0.282655</td>\n",
       "      <td>0.256852</td>\n",
       "      <td>-0.130628</td>\n",
       "      <td>1.000000</td>\n",
       "      <td>-0.020071</td>\n",
       "      <td>0.176234</td>\n",
       "    </tr>\n",
       "    <tr>\n",
       "      <th>KITCHEN</th>\n",
       "      <td>0.044518</td>\n",
       "      <td>0.052091</td>\n",
       "      <td>0.082799</td>\n",
       "      <td>-0.114602</td>\n",
       "      <td>0.129223</td>\n",
       "      <td>0.085353</td>\n",
       "      <td>0.146650</td>\n",
       "      <td>-0.020071</td>\n",
       "      <td>1.000000</td>\n",
       "      <td>-0.009562</td>\n",
       "    </tr>\n",
       "    <tr>\n",
       "      <th>FIREPLACE</th>\n",
       "      <td>0.181910</td>\n",
       "      <td>0.087234</td>\n",
       "      <td>0.261992</td>\n",
       "      <td>0.120506</td>\n",
       "      <td>0.205223</td>\n",
       "      <td>0.164380</td>\n",
       "      <td>0.140160</td>\n",
       "      <td>0.176234</td>\n",
       "      <td>-0.009562</td>\n",
       "      <td>1.000000</td>\n",
       "    </tr>\n",
       "  </tbody>\n",
       "</table>\n",
       "</div>"
      ],
      "text/plain": [
       "             LOT_SQFT  YR_BUILT  LIVING_AREA    FLOORS     ROOMS  BEDROOMS  \\\n",
       "LOT_SQFT     1.000000 -0.068903     0.426145  0.073640  0.308398  0.254094   \n",
       "YR_BUILT    -0.068903  1.000000    -0.131162 -0.190453 -0.144686 -0.130411   \n",
       "LIVING_AREA  0.426145 -0.131162     1.000000  0.475604  0.720688  0.641065   \n",
       "FLOORS       0.073640 -0.190453     0.475604  1.000000  0.432856  0.431242   \n",
       "ROOMS        0.308398 -0.144686     0.720688  0.432856  1.000000  0.710693   \n",
       "BEDROOMS     0.254094 -0.130411     0.641065  0.431242  0.710693  1.000000   \n",
       "FULL_BATH    0.201427  0.073706     0.438143  0.112166  0.378274  0.332620   \n",
       "HALF_BATH    0.134947  0.060685     0.300847  0.316142  0.282655  0.256852   \n",
       "KITCHEN      0.044518  0.052091     0.082799 -0.114602  0.129223  0.085353   \n",
       "FIREPLACE    0.181910  0.087234     0.261992  0.120506  0.205223  0.164380   \n",
       "\n",
       "             FULL_BATH  HALF_BATH   KITCHEN  FIREPLACE  \n",
       "LOT_SQFT      0.201427   0.134947  0.044518   0.181910  \n",
       "YR_BUILT      0.073706   0.060685  0.052091   0.087234  \n",
       "LIVING_AREA   0.438143   0.300847  0.082799   0.261992  \n",
       "FLOORS        0.112166   0.316142 -0.114602   0.120506  \n",
       "ROOMS         0.378274   0.282655  0.129223   0.205223  \n",
       "BEDROOMS      0.332620   0.256852  0.085353   0.164380  \n",
       "FULL_BATH     1.000000  -0.130628  0.146650   0.140160  \n",
       "HALF_BATH    -0.130628   1.000000 -0.020071   0.176234  \n",
       "KITCHEN       0.146650  -0.020071  1.000000  -0.009562  \n",
       "FIREPLACE     0.140160   0.176234 -0.009562   1.000000  "
      ]
     },
     "execution_count": 8,
     "metadata": {},
     "output_type": "execute_result"
    }
   ],
   "source": [
    "# look at the correlation between all of the predictors (be sure to only focus on the predictors, and not the target variable)\n",
    "predictors_df = homes_df[['LOT_SQFT', 'YR_BUILT', 'LIVING_AREA', 'FLOORS', 'ROOMS','BEDROOMS', 'FULL_BATH', 'HALF_BATH', 'KITCHEN', \n",
    "              'FIREPLACE', 'REMODEL']]\n",
    "response_df = homes_df['TOTAL_VALUE']\n",
    "#print(homes_df.corr())\n",
    "predictors_df.corr()"
   ]
  },
  {
   "cell_type": "markdown",
   "id": "e8c13a89",
   "metadata": {},
   "source": [
    "### Data visualization"
   ]
  },
  {
   "cell_type": "code",
   "execution_count": 9,
   "id": "5c8569a7",
   "metadata": {},
   "outputs": [],
   "source": [
    "import matplotlib.pyplot as plt"
   ]
  },
  {
   "cell_type": "code",
   "execution_count": 10,
   "id": "4d271623",
   "metadata": {},
   "outputs": [],
   "source": [
    "%matplotlib inline"
   ]
  },
  {
   "cell_type": "code",
   "execution_count": 11,
   "id": "cec34cd8",
   "metadata": {},
   "outputs": [
    {
     "data": {
      "image/png": "[encoded data removed]",
      "text/plain": [
       "<Figure size 432x288 with 1 Axes>"
      ]
     },
     "metadata": {
      "needs_background": "light"
     },
     "output_type": "display_data"
    }
   ],
   "source": [
    "# plot LIVING_AREA vs. TOTAL_VALUE\n",
    "plt.scatter(homes_df['LIVING_AREA'], homes_df['TOTAL_VALUE'])  \n",
    "plt.xlabel(\"Living Area\")                                   \n",
    "plt.ylabel(\"Total Value\")              \n",
    "plt.title(\"Living area vs. Total value\")\n",
    "plt.show()\n",
    "\n",
    "\n"
   ]
  },
  {
   "cell_type": "markdown",
   "id": "30d0d5af",
   "metadata": {},
   "source": [
    "## Part 2: Data preprocessing"
   ]
  },
  {
   "cell_type": "markdown",
   "id": "2534a125",
   "metadata": {},
   "source": [
    "#### Drop predictors (if you feel it's necessary)"
   ]
  },
  {
   "cell_type": "code",
   "execution_count": 12,
   "id": "4919e787",
   "metadata": {},
   "outputs": [
    {
     "name": "stdout",
     "output_type": "stream",
     "text": [
      "   TOTAL_VALUE  LOT_SQFT  YR_BUILT  LIVING_AREA  FLOORS  ROOMS  BEDROOMS  \\\n",
      "0        344.2    9965.0      1880       1352.0     2.0      6         3   \n",
      "1        412.6    6590.0      1945       1976.0     2.0     10         4   \n",
      "2        330.1    7500.0      1890       1371.0     2.0      8         4   \n",
      "3        498.6   13773.0      1957       2608.0     1.0      9         5   \n",
      "4        331.5    5000.0      1910       1438.0     2.0      7         3   \n",
      "\n",
      "   FULL_BATH  HALF_BATH  FIREPLACE REMODEL  \n",
      "0          1          1          0    None  \n",
      "1          2          1          0  Recent  \n",
      "2          1          1          0    None  \n",
      "3          1          1          1    None  \n",
      "4          2          0          0    None  \n"
     ]
    },
    {
     "data": {
      "text/plain": [
       "(5802, 11)"
      ]
     },
     "execution_count": 12,
     "metadata": {},
     "output_type": "execute_result"
    }
   ],
   "source": [
    "#print(homes_df['KITCHEN'].value_counts())\n",
    "\n",
    "homes_df = homes_df.drop(['KITCHEN'], axis=1)   #ONLY 53 VALUES WITH 2 KITCHEN\n",
    "\n",
    "print(homes_df.head())\n",
    "homes_df.shape\n"
   ]
  },
  {
   "cell_type": "markdown",
   "id": "8349a186",
   "metadata": {},
   "source": [
    "#### Deal with NA values"
   ]
  },
  {
   "cell_type": "code",
   "execution_count": 13,
   "id": "a5914853",
   "metadata": {},
   "outputs": [],
   "source": [
    "#homes_df = homes_df.dropna(axis = 0, how='any').reset_index(drop=True)"
   ]
  },
  {
   "cell_type": "code",
   "execution_count": 14,
   "id": "99279466",
   "metadata": {},
   "outputs": [
    {
     "data": {
      "text/plain": [
       "TOTAL_VALUE    0\n",
       "LOT_SQFT       0\n",
       "YR_BUILT       0\n",
       "LIVING_AREA    0\n",
       "FLOORS         0\n",
       "ROOMS          0\n",
       "BEDROOMS       0\n",
       "FULL_BATH      0\n",
       "HALF_BATH      0\n",
       "FIREPLACE      0\n",
       "REMODEL        0\n",
       "dtype: int64"
      ]
     },
     "execution_count": 14,
     "metadata": {},
     "output_type": "execute_result"
    }
   ],
   "source": [
    "homes_df2 = homes_df.dropna(axis = 0, how='any').reset_index(drop=True)\n",
    "#homes_df2 = homes_df.dropna(axis = 0, subset=['LOT_SQFT', 'LIVING_AREA'])\n",
    "homes_df2.isnull().sum()"
   ]
  },
  {
   "cell_type": "markdown",
   "id": "086ee251",
   "metadata": {},
   "source": [
    "#### Deal with categorical variables"
   ]
  },
  {
   "cell_type": "code",
   "execution_count": 15,
   "id": "015bfb0d",
   "metadata": {},
   "outputs": [
    {
     "name": "stdout",
     "output_type": "stream",
     "text": [
      "(5799, 12)\n"
     ]
    },
    {
     "data": {
      "text/html": [
       "<div>\n",
       "<style scoped>\n",
       "    .dataframe tbody tr th:only-of-type {\n",
       "        vertical-align: middle;\n",
       "    }\n",
       "\n",
       "    .dataframe tbody tr th {\n",
       "        vertical-align: top;\n",
       "    }\n",
       "\n",
       "    .dataframe thead th {\n",
       "        text-align: right;\n",
       "    }\n",
       "</style>\n",
       "<table border=\"1\" class=\"dataframe\">\n",
       "  <thead>\n",
       "    <tr style=\"text-align: right;\">\n",
       "      <th></th>\n",
       "      <th>TOTAL_VALUE</th>\n",
       "      <th>LOT_SQFT</th>\n",
       "      <th>YR_BUILT</th>\n",
       "      <th>LIVING_AREA</th>\n",
       "      <th>FLOORS</th>\n",
       "      <th>ROOMS</th>\n",
       "      <th>BEDROOMS</th>\n",
       "      <th>FULL_BATH</th>\n",
       "      <th>HALF_BATH</th>\n",
       "      <th>FIREPLACE</th>\n",
       "      <th>REMODEL_Old</th>\n",
       "      <th>REMODEL_Recent</th>\n",
       "    </tr>\n",
       "  </thead>\n",
       "  <tbody>\n",
       "    <tr>\n",
       "      <th>0</th>\n",
       "      <td>344.2</td>\n",
       "      <td>9965.0</td>\n",
       "      <td>1880</td>\n",
       "      <td>1352.0</td>\n",
       "      <td>2.0</td>\n",
       "      <td>6</td>\n",
       "      <td>3</td>\n",
       "      <td>1</td>\n",
       "      <td>1</td>\n",
       "      <td>0</td>\n",
       "      <td>0</td>\n",
       "      <td>0</td>\n",
       "    </tr>\n",
       "    <tr>\n",
       "      <th>1</th>\n",
       "      <td>412.6</td>\n",
       "      <td>6590.0</td>\n",
       "      <td>1945</td>\n",
       "      <td>1976.0</td>\n",
       "      <td>2.0</td>\n",
       "      <td>10</td>\n",
       "      <td>4</td>\n",
       "      <td>2</td>\n",
       "      <td>1</td>\n",
       "      <td>0</td>\n",
       "      <td>0</td>\n",
       "      <td>1</td>\n",
       "    </tr>\n",
       "    <tr>\n",
       "      <th>2</th>\n",
       "      <td>330.1</td>\n",
       "      <td>7500.0</td>\n",
       "      <td>1890</td>\n",
       "      <td>1371.0</td>\n",
       "      <td>2.0</td>\n",
       "      <td>8</td>\n",
       "      <td>4</td>\n",
       "      <td>1</td>\n",
       "      <td>1</td>\n",
       "      <td>0</td>\n",
       "      <td>0</td>\n",
       "      <td>0</td>\n",
       "    </tr>\n",
       "    <tr>\n",
       "      <th>3</th>\n",
       "      <td>498.6</td>\n",
       "      <td>13773.0</td>\n",
       "      <td>1957</td>\n",
       "      <td>2608.0</td>\n",
       "      <td>1.0</td>\n",
       "      <td>9</td>\n",
       "      <td>5</td>\n",
       "      <td>1</td>\n",
       "      <td>1</td>\n",
       "      <td>1</td>\n",
       "      <td>0</td>\n",
       "      <td>0</td>\n",
       "    </tr>\n",
       "    <tr>\n",
       "      <th>4</th>\n",
       "      <td>331.5</td>\n",
       "      <td>5000.0</td>\n",
       "      <td>1910</td>\n",
       "      <td>1438.0</td>\n",
       "      <td>2.0</td>\n",
       "      <td>7</td>\n",
       "      <td>3</td>\n",
       "      <td>2</td>\n",
       "      <td>0</td>\n",
       "      <td>0</td>\n",
       "      <td>0</td>\n",
       "      <td>0</td>\n",
       "    </tr>\n",
       "  </tbody>\n",
       "</table>\n",
       "</div>"
      ],
      "text/plain": [
       "   TOTAL_VALUE  LOT_SQFT  YR_BUILT  LIVING_AREA  FLOORS  ROOMS  BEDROOMS  \\\n",
       "0        344.2    9965.0      1880       1352.0     2.0      6         3   \n",
       "1        412.6    6590.0      1945       1976.0     2.0     10         4   \n",
       "2        330.1    7500.0      1890       1371.0     2.0      8         4   \n",
       "3        498.6   13773.0      1957       2608.0     1.0      9         5   \n",
       "4        331.5    5000.0      1910       1438.0     2.0      7         3   \n",
       "\n",
       "   FULL_BATH  HALF_BATH  FIREPLACE  REMODEL_Old  REMODEL_Recent  \n",
       "0          1          1          0            0               0  \n",
       "1          2          1          0            0               1  \n",
       "2          1          1          0            0               0  \n",
       "3          1          1          1            0               0  \n",
       "4          2          0          0            0               0  "
      ]
     },
     "execution_count": 15,
     "metadata": {},
     "output_type": "execute_result"
    }
   ],
   "source": [
    "# flag categorical varibales\n",
    "\n",
    "#homes_df2[\"REMODEL\"] = homes_df2[\"REMODEL\"].astype(\"category\")\n",
    "homes_df2.loc[:,\"REMODEL\"] = homes_df2.loc[:,\"REMODEL\"].astype(\"category\")\n",
    "homes_df2 = pd.get_dummies(homes_df2, drop_first= True)\n",
    "homes_df2.dtypes\n",
    "homes_df2.head()\n",
    "print(homes_df2.shape)\n",
    "homes_df2.head()"
   ]
  },
  {
   "cell_type": "markdown",
   "id": "445a02a5",
   "metadata": {},
   "source": [
    "#### Normalize data"
   ]
  },
  {
   "cell_type": "code",
   "execution_count": 16,
   "id": "d5e49c2e",
   "metadata": {},
   "outputs": [],
   "source": [
    "from sklearn import preprocessing"
   ]
  },
  {
   "cell_type": "code",
   "execution_count": 17,
   "id": "fa75b963",
   "metadata": {},
   "outputs": [],
   "source": [
    "# create a dataframe with just the predictors, and another with just the values for the response variable\n",
    "# predictor_df should be helpful when you normalize the predictors below, and response_df should be helpful when you partition\n",
    "# your data into train and test sets (hint: you can use \"y = response_df\" when you partition)\n",
    "\n",
    "predictors_df2 = homes_df2[['LOT_SQFT', 'YR_BUILT', 'LIVING_AREA', 'FLOORS', 'ROOMS','BEDROOMS', 'FULL_BATH', 'HALF_BATH', \n",
    "              'FIREPLACE','REMODEL_Old', 'REMODEL_Recent']]\n",
    "response_df = homes_df2['TOTAL_VALUE']\n",
    "\n",
    "\n"
   ]
  },
  {
   "cell_type": "code",
   "execution_count": 18,
   "id": "21df58a7",
   "metadata": {},
   "outputs": [
    {
     "data": {
      "text/html": [
       "<div>\n",
       "<style scoped>\n",
       "    .dataframe tbody tr th:only-of-type {\n",
       "        vertical-align: middle;\n",
       "    }\n",
       "\n",
       "    .dataframe tbody tr th {\n",
       "        vertical-align: top;\n",
       "    }\n",
       "\n",
       "    .dataframe thead th {\n",
       "        text-align: right;\n",
       "    }\n",
       "</style>\n",
       "<table border=\"1\" class=\"dataframe\">\n",
       "  <thead>\n",
       "    <tr style=\"text-align: right;\">\n",
       "      <th></th>\n",
       "      <th>LOT_SQFT</th>\n",
       "      <th>YR_BUILT</th>\n",
       "      <th>LIVING_AREA</th>\n",
       "      <th>FLOORS</th>\n",
       "      <th>ROOMS</th>\n",
       "      <th>BEDROOMS</th>\n",
       "      <th>FULL_BATH</th>\n",
       "      <th>HALF_BATH</th>\n",
       "      <th>FIREPLACE</th>\n",
       "      <th>REMODEL_Old</th>\n",
       "      <th>REMODEL_Recent</th>\n",
       "    </tr>\n",
       "  </thead>\n",
       "  <tbody>\n",
       "    <tr>\n",
       "      <th>0</th>\n",
       "      <td>1.380770</td>\n",
       "      <td>-1.576306</td>\n",
       "      <td>-0.564957</td>\n",
       "      <td>0.710481</td>\n",
       "      <td>-0.692386</td>\n",
       "      <td>-0.272264</td>\n",
       "      <td>-0.568257</td>\n",
       "      <td>0.722730</td>\n",
       "      <td>-1.309419</td>\n",
       "      <td>-0.333684</td>\n",
       "      <td>-0.421262</td>\n",
       "    </tr>\n",
       "    <tr>\n",
       "      <th>1</th>\n",
       "      <td>0.116790</td>\n",
       "      <td>0.229535</td>\n",
       "      <td>0.589695</td>\n",
       "      <td>0.710481</td>\n",
       "      <td>2.090597</td>\n",
       "      <td>0.909517</td>\n",
       "      <td>1.347628</td>\n",
       "      <td>0.722730</td>\n",
       "      <td>-1.309419</td>\n",
       "      <td>-0.333684</td>\n",
       "      <td>2.373818</td>\n",
       "    </tr>\n",
       "    <tr>\n",
       "      <th>2</th>\n",
       "      <td>0.457596</td>\n",
       "      <td>-1.298484</td>\n",
       "      <td>-0.529799</td>\n",
       "      <td>0.710481</td>\n",
       "      <td>0.699105</td>\n",
       "      <td>0.909517</td>\n",
       "      <td>-0.568257</td>\n",
       "      <td>0.722730</td>\n",
       "      <td>-1.309419</td>\n",
       "      <td>-0.333684</td>\n",
       "      <td>-0.421262</td>\n",
       "    </tr>\n",
       "    <tr>\n",
       "      <th>3</th>\n",
       "      <td>2.806915</td>\n",
       "      <td>0.562921</td>\n",
       "      <td>1.759149</td>\n",
       "      <td>-1.537857</td>\n",
       "      <td>1.394851</td>\n",
       "      <td>2.091298</td>\n",
       "      <td>-0.568257</td>\n",
       "      <td>0.722730</td>\n",
       "      <td>0.460173</td>\n",
       "      <td>-0.333684</td>\n",
       "      <td>-0.421262</td>\n",
       "    </tr>\n",
       "    <tr>\n",
       "      <th>4</th>\n",
       "      <td>-0.478685</td>\n",
       "      <td>-0.742841</td>\n",
       "      <td>-0.405822</td>\n",
       "      <td>0.710481</td>\n",
       "      <td>0.003359</td>\n",
       "      <td>-0.272264</td>\n",
       "      <td>1.347628</td>\n",
       "      <td>-1.150811</td>\n",
       "      <td>-1.309419</td>\n",
       "      <td>-0.333684</td>\n",
       "      <td>-0.421262</td>\n",
       "    </tr>\n",
       "    <tr>\n",
       "      <th>5</th>\n",
       "      <td>-0.425505</td>\n",
       "      <td>0.368445</td>\n",
       "      <td>-1.105274</td>\n",
       "      <td>-1.537857</td>\n",
       "      <td>-0.692386</td>\n",
       "      <td>-0.272264</td>\n",
       "      <td>-0.568257</td>\n",
       "      <td>-1.150811</td>\n",
       "      <td>0.460173</td>\n",
       "      <td>2.996843</td>\n",
       "      <td>-0.421262</td>\n",
       "    </tr>\n",
       "    <tr>\n",
       "      <th>6</th>\n",
       "      <td>-0.478685</td>\n",
       "      <td>0.479574</td>\n",
       "      <td>0.478670</td>\n",
       "      <td>0.710481</td>\n",
       "      <td>0.003359</td>\n",
       "      <td>-0.272264</td>\n",
       "      <td>-0.568257</td>\n",
       "      <td>0.722730</td>\n",
       "      <td>-1.309419</td>\n",
       "      <td>-0.333684</td>\n",
       "      <td>-0.421262</td>\n",
       "    </tr>\n",
       "    <tr>\n",
       "      <th>7</th>\n",
       "      <td>1.393878</td>\n",
       "      <td>0.368445</td>\n",
       "      <td>-0.846218</td>\n",
       "      <td>-1.537857</td>\n",
       "      <td>-0.692386</td>\n",
       "      <td>-0.272264</td>\n",
       "      <td>-0.568257</td>\n",
       "      <td>-1.150811</td>\n",
       "      <td>-1.309419</td>\n",
       "      <td>-0.333684</td>\n",
       "      <td>-0.421262</td>\n",
       "    </tr>\n",
       "    <tr>\n",
       "      <th>8</th>\n",
       "      <td>0.208546</td>\n",
       "      <td>0.590703</td>\n",
       "      <td>-1.046061</td>\n",
       "      <td>-1.537857</td>\n",
       "      <td>-1.388132</td>\n",
       "      <td>-0.272264</td>\n",
       "      <td>-0.568257</td>\n",
       "      <td>-1.150811</td>\n",
       "      <td>0.460173</td>\n",
       "      <td>-0.333684</td>\n",
       "      <td>2.373818</td>\n",
       "    </tr>\n",
       "    <tr>\n",
       "      <th>9</th>\n",
       "      <td>-0.443856</td>\n",
       "      <td>-1.020663</td>\n",
       "      <td>2.469704</td>\n",
       "      <td>0.710481</td>\n",
       "      <td>0.699105</td>\n",
       "      <td>0.909517</td>\n",
       "      <td>1.347628</td>\n",
       "      <td>-1.150811</td>\n",
       "      <td>-1.309419</td>\n",
       "      <td>-0.333684</td>\n",
       "      <td>-0.421262</td>\n",
       "    </tr>\n",
       "  </tbody>\n",
       "</table>\n",
       "</div>"
      ],
      "text/plain": [
       "   LOT_SQFT  YR_BUILT  LIVING_AREA    FLOORS     ROOMS  BEDROOMS  FULL_BATH  \\\n",
       "0  1.380770 -1.576306    -0.564957  0.710481 -0.692386 -0.272264  -0.568257   \n",
       "1  0.116790  0.229535     0.589695  0.710481  2.090597  0.909517   1.347628   \n",
       "2  0.457596 -1.298484    -0.529799  0.710481  0.699105  0.909517  -0.568257   \n",
       "3  2.806915  0.562921     1.759149 -1.537857  1.394851  2.091298  -0.568257   \n",
       "4 -0.478685 -0.742841    -0.405822  0.710481  0.003359 -0.272264   1.347628   \n",
       "5 -0.425505  0.368445    -1.105274 -1.537857 -0.692386 -0.272264  -0.568257   \n",
       "6 -0.478685  0.479574     0.478670  0.710481  0.003359 -0.272264  -0.568257   \n",
       "7  1.393878  0.368445    -0.846218 -1.537857 -0.692386 -0.272264  -0.568257   \n",
       "8  0.208546  0.590703    -1.046061 -1.537857 -1.388132 -0.272264  -0.568257   \n",
       "9 -0.443856 -1.020663     2.469704  0.710481  0.699105  0.909517   1.347628   \n",
       "\n",
       "   HALF_BATH  FIREPLACE  REMODEL_Old  REMODEL_Recent  \n",
       "0   0.722730  -1.309419    -0.333684       -0.421262  \n",
       "1   0.722730  -1.309419    -0.333684        2.373818  \n",
       "2   0.722730  -1.309419    -0.333684       -0.421262  \n",
       "3   0.722730   0.460173    -0.333684       -0.421262  \n",
       "4  -1.150811  -1.309419    -0.333684       -0.421262  \n",
       "5  -1.150811   0.460173     2.996843       -0.421262  \n",
       "6   0.722730  -1.309419    -0.333684       -0.421262  \n",
       "7  -1.150811  -1.309419    -0.333684       -0.421262  \n",
       "8  -1.150811   0.460173    -0.333684        2.373818  \n",
       "9  -1.150811  -1.309419    -0.333684       -0.421262  "
      ]
     },
     "execution_count": 18,
     "metadata": {},
     "output_type": "execute_result"
    }
   ],
   "source": [
    "# normalize predictors using standardization (i.e., force all predictors to have mean = 0  and standard deviation = 1)\n",
    "std_scaler = preprocessing.StandardScaler()\n",
    "\n",
    "predictor_df_normalized = std_scaler.fit_transform(predictors_df2)\n",
    "predictor_df_normalized = pd.DataFrame(predictor_df_normalized, columns = predictors_df2.columns)\n",
    "predictor_df_normalized.head(10)"
   ]
  },
  {
   "cell_type": "markdown",
   "id": "259954f6",
   "metadata": {},
   "source": [
    "## Part 3: Multiple Linear Regression"
   ]
  },
  {
   "cell_type": "markdown",
   "id": "e29e0d47",
   "metadata": {},
   "source": [
    "### First, train and test the multiple linear regression model with sklearn"
   ]
  },
  {
   "cell_type": "code",
   "execution_count": 19,
   "id": "bdcbe0d1",
   "metadata": {},
   "outputs": [],
   "source": [
    "from sklearn.model_selection import train_test_split\n",
    "from sklearn.linear_model import LinearRegression\n",
    "\n",
    "from dmba import regressionSummary, adjusted_r2_score  # using the dmba package for perforance evaluation"
   ]
  },
  {
   "cell_type": "code",
   "execution_count": 20,
   "id": "f5931a56",
   "metadata": {},
   "outputs": [],
   "source": [
    "# partition data into train and test sets\n",
    "X = predictor_df_normalized\n",
    "y = response_df \n",
    "train_X, test_X, train_y, test_y = train_test_split(X, y, test_size=0.3, random_state=1)"
   ]
  },
  {
   "cell_type": "code",
   "execution_count": 21,
   "id": "34dd2a04",
   "metadata": {},
   "outputs": [],
   "source": [
    "# train the LR model\n",
    "from sklearn import linear_model\n",
    "\n",
    "\n",
    "linear_model = LinearRegression()\n",
    "linear_model = linear_model.fit(train_X, train_y)"
   ]
  },
  {
   "cell_type": "code",
   "execution_count": 22,
   "id": "2ae46279",
   "metadata": {},
   "outputs": [
    {
     "name": "stdout",
     "output_type": "stream",
     "text": [
      "intercept  392.72269930231244\n",
      "         Predictor  coefficient\n",
      "0         LOT_SQFT    23.822365\n",
      "1         YR_BUILT    -0.233548\n",
      "2      LIVING_AREA    52.108562\n",
      "3           FLOORS    13.538809\n",
      "4            ROOMS     1.859240\n",
      "5         BEDROOMS    -0.399162\n",
      "6        FULL_BATH     9.555192\n",
      "7        HALF_BATH    10.344114\n",
      "8        FIREPLACE    11.563626\n",
      "9      REMODEL_Old     2.584085\n",
      "10  REMODEL_Recent     9.799949\n"
     ]
    }
   ],
   "source": [
    "# print the coefficients\n",
    "print('intercept ', linear_model.intercept_)\n",
    "print(pd.DataFrame({'Predictor': X.columns, 'coefficient': linear_model.coef_}))"
   ]
  },
  {
   "cell_type": "code",
   "execution_count": 23,
   "id": "c7e6c6eb",
   "metadata": {},
   "outputs": [
    {
     "name": "stdout",
     "output_type": "stream",
     "text": [
      "\n",
      "Regression statistics\n",
      "\n",
      "                      Mean Error (ME) : 0.0000\n",
      "       Root Mean Squared Error (RMSE) : 44.1976\n",
      "            Mean Absolute Error (MAE) : 33.5544\n",
      "          Mean Percentage Error (MPE) : -1.1719\n",
      "Mean Absolute Percentage Error (MAPE) : 8.7431\n"
     ]
    }
   ],
   "source": [
    "# print performance metrics on training set using regressionSummary()\n",
    "predicted_y_training = linear_model.predict(train_X)\n",
    "regressionSummary(train_y, predicted_y_training)"
   ]
  },
  {
   "cell_type": "code",
   "execution_count": 24,
   "id": "e917ea3a",
   "metadata": {},
   "outputs": [
    {
     "data": {
      "text/html": [
       "<div>\n",
       "<style scoped>\n",
       "    .dataframe tbody tr th:only-of-type {\n",
       "        vertical-align: middle;\n",
       "    }\n",
       "\n",
       "    .dataframe tbody tr th {\n",
       "        vertical-align: top;\n",
       "    }\n",
       "\n",
       "    .dataframe thead th {\n",
       "        text-align: right;\n",
       "    }\n",
       "</style>\n",
       "<table border=\"1\" class=\"dataframe\">\n",
       "  <thead>\n",
       "    <tr style=\"text-align: right;\">\n",
       "      <th></th>\n",
       "      <th>Predicted</th>\n",
       "      <th>Actual</th>\n",
       "      <th>Residual</th>\n",
       "    </tr>\n",
       "  </thead>\n",
       "  <tbody>\n",
       "    <tr>\n",
       "      <th>1822</th>\n",
       "      <td>327.932452</td>\n",
       "      <td>291.7</td>\n",
       "      <td>-36.232452</td>\n",
       "    </tr>\n",
       "    <tr>\n",
       "      <th>1998</th>\n",
       "      <td>377.860713</td>\n",
       "      <td>361.1</td>\n",
       "      <td>-16.760713</td>\n",
       "    </tr>\n",
       "    <tr>\n",
       "      <th>5124</th>\n",
       "      <td>384.347950</td>\n",
       "      <td>371.6</td>\n",
       "      <td>-12.747950</td>\n",
       "    </tr>\n",
       "    <tr>\n",
       "      <th>808</th>\n",
       "      <td>280.414613</td>\n",
       "      <td>215.5</td>\n",
       "      <td>-64.914613</td>\n",
       "    </tr>\n",
       "    <tr>\n",
       "      <th>4032</th>\n",
       "      <td>369.967978</td>\n",
       "      <td>325.7</td>\n",
       "      <td>-44.267978</td>\n",
       "    </tr>\n",
       "  </tbody>\n",
       "</table>\n",
       "</div>"
      ],
      "text/plain": [
       "       Predicted  Actual   Residual\n",
       "1822  327.932452   291.7 -36.232452\n",
       "1998  377.860713   361.1 -16.760713\n",
       "5124  384.347950   371.6 -12.747950\n",
       "808   280.414613   215.5 -64.914613\n",
       "4032  369.967978   325.7 -44.267978"
      ]
     },
     "execution_count": 24,
     "metadata": {},
     "output_type": "execute_result"
    }
   ],
   "source": [
    "# now, deploy the model on the test data\n",
    "predicted_y_test = linear_model.predict(test_X)  # these are our y_hat values!!\n",
    "\n",
    "result = pd.DataFrame({'Predicted': predicted_y_test, 'Actual': test_y,\n",
    "                       'Residual': test_y - predicted_y_test})\n",
    "result.head()"
   ]
  },
  {
   "cell_type": "code",
   "execution_count": 25,
   "id": "793e1d87",
   "metadata": {},
   "outputs": [
    {
     "name": "stdout",
     "output_type": "stream",
     "text": [
      "\n",
      "Regression statistics\n",
      "\n",
      "                      Mean Error (ME) : 0.0171\n",
      "       Root Mean Squared Error (RMSE) : 44.9204\n",
      "            Mean Absolute Error (MAE) : 33.8083\n",
      "          Mean Percentage Error (MPE) : -1.3338\n",
      "Mean Absolute Percentage Error (MAPE) : 8.8754\n"
     ]
    }
   ],
   "source": [
    "# how did our model perform in prediction? Use regressionSummary()\n",
    "regressionSummary(test_y, predicted_y_test)"
   ]
  },
  {
   "cell_type": "code",
   "execution_count": 26,
   "id": "1ffb0af8",
   "metadata": {},
   "outputs": [
    {
     "data": {
      "image/png": "[encoded data removed]",
      "text/plain": [
       "<Figure size 432x288 with 1 Axes>"
      ]
     },
     "metadata": {
      "needs_background": "light"
     },
     "output_type": "display_data"
    }
   ],
   "source": [
    "# let's see if our residuals are normally distributed (use matplotlib for this)\n",
    "residuals = test_y - predicted_y_test\n",
    "\n",
    "plt.hist(residuals, bins = 50)\n",
    "plt.xlim([-200,200])\n",
    "plt.tight_layout()\n",
    "plt.show()"
   ]
  },
  {
   "cell_type": "markdown",
   "id": "56029036",
   "metadata": {},
   "source": [
    "### Now, train and test the model with statsmodels"
   ]
  },
  {
   "cell_type": "code",
   "execution_count": 27,
   "id": "f8f78f8d",
   "metadata": {},
   "outputs": [],
   "source": [
    "import statsmodels.api as sm"
   ]
  },
  {
   "cell_type": "code",
   "execution_count": 28,
   "id": "a0a7d7a6",
   "metadata": {},
   "outputs": [],
   "source": [
    "# add constant to the training and testing data (the predictors) and train model\n",
    "train_X = sm.add_constant(train_X)\n",
    "test_X = sm.add_constant(test_X)\n",
    "\n",
    "linear_model2 = sm.OLS(train_y, train_X).fit()\n"
   ]
  },
  {
   "cell_type": "code",
   "execution_count": 29,
   "id": "2b792465",
   "metadata": {},
   "outputs": [
    {
     "data": {
      "text/plain": [
       "const             392.722699\n",
       "LOT_SQFT           23.822365\n",
       "YR_BUILT           -0.233548\n",
       "LIVING_AREA        52.108562\n",
       "FLOORS             13.538809\n",
       "ROOMS               1.859240\n",
       "BEDROOMS           -0.399162\n",
       "FULL_BATH           9.555192\n",
       "HALF_BATH          10.344114\n",
       "FIREPLACE          11.563626\n",
       "REMODEL_Old         2.584085\n",
       "REMODEL_Recent      9.799949\n",
       "dtype: float64"
      ]
     },
     "execution_count": 29,
     "metadata": {},
     "output_type": "execute_result"
    }
   ],
   "source": [
    "# print the coefficients\n",
    "linear_model2.params"
   ]
  },
  {
   "cell_type": "code",
   "execution_count": 30,
   "id": "9c6ee998",
   "metadata": {},
   "outputs": [
    {
     "name": "stdout",
     "output_type": "stream",
     "text": [
      "\n",
      "Regression statistics\n",
      "\n",
      "                      Mean Error (ME) : 0.0000\n",
      "       Root Mean Squared Error (RMSE) : 44.1976\n",
      "            Mean Absolute Error (MAE) : 33.5544\n",
      "          Mean Percentage Error (MPE) : -1.1719\n",
      "Mean Absolute Percentage Error (MAPE) : 8.7431\n"
     ]
    }
   ],
   "source": [
    "# now, look at the training performance\n",
    "predicted_y_training2 = linear_model2.predict(train_X)\n",
    "regressionSummary(train_y, predicted_y_training2)"
   ]
  },
  {
   "cell_type": "code",
   "execution_count": 31,
   "id": "63c2ef1c",
   "metadata": {},
   "outputs": [],
   "source": [
    "# now, deploy the model on the test data\n",
    "predicted_y_test2 = linear_model2.predict(test_X)\n"
   ]
  },
  {
   "cell_type": "code",
   "execution_count": 32,
   "id": "58d50224",
   "metadata": {},
   "outputs": [
    {
     "name": "stdout",
     "output_type": "stream",
     "text": [
      "\n",
      "Regression statistics\n",
      "\n",
      "                      Mean Error (ME) : 0.0171\n",
      "       Root Mean Squared Error (RMSE) : 44.9204\n",
      "            Mean Absolute Error (MAE) : 33.8083\n",
      "          Mean Percentage Error (MPE) : -1.3338\n",
      "Mean Absolute Percentage Error (MAPE) : 8.8754\n"
     ]
    }
   ],
   "source": [
    "# look at the testing performance\n",
    "regressionSummary(test_y, predicted_y_test2)"
   ]
  },
  {
   "cell_type": "code",
   "execution_count": 33,
   "id": "26faf5db",
   "metadata": {},
   "outputs": [
    {
     "data": {
      "text/plain": [
       "const             0.0000\n",
       "LOT_SQFT          0.0000\n",
       "YR_BUILT          0.7264\n",
       "LIVING_AREA       0.0000\n",
       "FLOORS            0.0000\n",
       "ROOMS             0.1100\n",
       "BEDROOMS          0.7019\n",
       "FULL_BATH         0.0000\n",
       "HALF_BATH         0.0000\n",
       "FIREPLACE         0.0000\n",
       "REMODEL_Old       0.0002\n",
       "REMODEL_Recent    0.0000\n",
       "dtype: float64"
      ]
     },
     "execution_count": 33,
     "metadata": {},
     "output_type": "execute_result"
    }
   ],
   "source": [
    "# look at the p-values\n",
    "linear_model2.pvalues.round(4)"
   ]
  },
  {
   "cell_type": "code",
   "execution_count": 34,
   "id": "f792c2a9",
   "metadata": {},
   "outputs": [],
   "source": [
    "# drop the variables that are not significant (i.e., p>0.05)\n",
    "train_X = train_X.drop([\"YR_BUILT\", \"ROOMS\",\"BEDROOMS\"], axis = 1)\n",
    "test_X = test_X.drop([\"YR_BUILT\", \"ROOMS\",\"BEDROOMS\"], axis = 1)"
   ]
  },
  {
   "cell_type": "code",
   "execution_count": 35,
   "id": "a3756c60",
   "metadata": {},
   "outputs": [
    {
     "data": {
      "text/plain": [
       "const             392.728338\n",
       "LOT_SQFT           23.868746\n",
       "LIVING_AREA        53.030139\n",
       "FLOORS             13.716184\n",
       "FULL_BATH           9.689310\n",
       "HALF_BATH          10.440555\n",
       "FIREPLACE          11.558488\n",
       "REMODEL_Old         2.624157\n",
       "REMODEL_Recent      9.842121\n",
       "dtype: float64"
      ]
     },
     "execution_count": 35,
     "metadata": {},
     "output_type": "execute_result"
    }
   ],
   "source": [
    "# train the new model and print the performance metrics for training\n",
    "linear_model_new = sm.OLS(train_y, train_X).fit()\n",
    "linear_model_new.params"
   ]
  },
  {
   "cell_type": "code",
   "execution_count": 36,
   "id": "cd6cda9b",
   "metadata": {},
   "outputs": [
    {
     "name": "stdout",
     "output_type": "stream",
     "text": [
      "\n",
      "Regression statistics\n",
      "\n",
      "                      Mean Error (ME) : 0.0000\n",
      "       Root Mean Squared Error (RMSE) : 44.2132\n",
      "            Mean Absolute Error (MAE) : 33.5713\n",
      "          Mean Percentage Error (MPE) : -1.1745\n",
      "Mean Absolute Percentage Error (MAPE) : 8.7511\n"
     ]
    }
   ],
   "source": [
    "# deploy the model on the test data, and print the performance metrics for testing\n",
    "predicted_y_training3 = linear_model_new.predict(train_X)\n",
    "regressionSummary(train_y, predicted_y_training3)"
   ]
  },
  {
   "cell_type": "code",
   "execution_count": 37,
   "id": "b3bba14e-3735-47ec-a36d-592cbd8f9ec2",
   "metadata": {},
   "outputs": [
    {
     "name": "stdout",
     "output_type": "stream",
     "text": [
      "\n",
      "Regression statistics\n",
      "\n",
      "                      Mean Error (ME) : -0.0017\n",
      "       Root Mean Squared Error (RMSE) : 44.9089\n",
      "            Mean Absolute Error (MAE) : 33.8337\n",
      "          Mean Percentage Error (MPE) : -1.3409\n",
      "Mean Absolute Percentage Error (MAPE) : 8.8899\n"
     ]
    }
   ],
   "source": [
    "# deploy the model on the test data, and print the performance metrics for testing\n",
    "predicted_y_test3 = linear_model_new.predict(test_X)\n",
    "regressionSummary(test_y, predicted_y_test3)"
   ]
  }
 ],
 "metadata": {
  "kernelspec": {
   "display_name": "Python 3 (ipykernel)",
   "language": "python",
   "name": "python3"
  },
  "language_info": {
   "codemirror_mode": {
    "name": "ipython",
    "version": 3
   },
   "file_extension": ".py",
   "mimetype": "text/x-python",
   "name": "python",
   "nbconvert_exporter": "python",
   "pygments_lexer": "ipython3",
   "version": "3.9.12"
  },
  "vscode": {
   "interpreter": {
    "hash": "31f2aee4e71d21fbe5cf8b01ff0e069b9275f58929596ceb00d14d90e3e16cd6"
   }
  }
 },
 "nbformat": 4,
 "nbformat_minor": 5
}
